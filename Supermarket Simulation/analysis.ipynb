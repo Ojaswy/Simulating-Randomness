{
 "cells": [
  {
   "cell_type": "markdown",
   "metadata": {},
   "source": [
    "### Running some basic analysis on the data\n",
    "\n",
    "This script runs some basic analysis on the data and also creates the Transition probability matrix."
   ]
  },
  {
   "cell_type": "code",
   "execution_count": 6,
   "metadata": {},
   "outputs": [],
   "source": [
    "import pandas as pd\n",
    "import matplotlib.pyplot as plt\n",
    "import numpy as np\n",
    "import time"
   ]
  },
  {
   "cell_type": "code",
   "execution_count": 7,
   "metadata": {},
   "outputs": [],
   "source": [
    "#Function that takes a list with counts and calculates the corresponding probabilities\n",
    "def probs_out_of_counts(array_counts):\n",
    "    sum_count = array_counts.sum()\n",
    "    factor = 100/sum_count\n",
    "    array_probs = []\n",
    "    for i in array_counts:\n",
    "        array_probs.append(i*factor)\n",
    "    return array_probs\n",
    "\n",
    "\n",
    "days = [\"monday\", \"tuesday\", \"wednesday\", \"thursday\", \"friday\"]\n",
    "data_days = {}\n",
    "\n",
    "for i, j in enumerate(days):\n",
    "    data_days[days[i]] = pd.read_csv(f\"data/{j}.csv\", sep=\";\", index_col=\"timestamp\")\n",
    "    new_list = []\n",
    "    for z in data_days[days[i]][\"customer_no\"].values:\n",
    "        new_list.append(str(z) + \"_\" + j)\n",
    "    data_days[days[i]][\"customer_no\"] = new_list\n",
    "\n",
    "for data in data_days.values():\n",
    "    data.index = pd.to_datetime(data.index)\n",
    "\n",
    "data_week = pd.concat(data_days)\n",
    "data_week = data_week.reset_index(0, drop=True)"
   ]
  },
  {
   "cell_type": "code",
   "execution_count": 9,
   "metadata": {},
   "outputs": [
    {
     "name": "stdout",
     "output_type": "stream",
     "text": [
      "monday           customer_no\n",
      "location             \n",
      "checkout         1437\n",
      "dairy             895\n",
      "drinks            797\n",
      "fruit            1005\n",
      "spices            750\n",
      "\n",
      "tuesday           customer_no\n",
      "location             \n",
      "checkout         1420\n",
      "dairy             911\n",
      "drinks            713\n",
      "fruit             976\n",
      "spices            694\n",
      "\n",
      "wednesday           customer_no\n",
      "location             \n",
      "checkout         1526\n",
      "dairy             976\n",
      "drinks            775\n",
      "fruit            1043\n",
      "spices            730\n",
      "\n",
      "thursday           customer_no\n",
      "location             \n",
      "checkout         1532\n",
      "dairy             965\n",
      "drinks            776\n",
      "fruit            1041\n",
      "spices            790\n",
      "\n",
      "friday           customer_no\n",
      "location             \n",
      "checkout         1502\n",
      "dairy             932\n",
      "drinks            844\n",
      "fruit            1057\n",
      "spices            790\n",
      "\n"
     ]
    },
    {
     "data": {
      "image/png": "[encoded data removed]",
      "text/plain": [
       "<Figure size 432x288 with 1 Axes>"
      ]
     },
     "metadata": {
      "needs_background": "light"
     },
     "output_type": "display_data"
    }
   ],
   "source": [
    "# SOME BASIC ANALYSIS\n",
    "\n",
    "# Total number of customers in each section\n",
    "for i in days:\n",
    "    print(i, data_days[i].groupby(\"location\").count())\n",
    "    print()\n",
    "# Plotting the total number of customers in each section over time - plotting every 2 hours on a Monday\n",
    "mon = data_days[\"monday\"].groupby(data_days[\"monday\"].index).count()[\"location\"]\n",
    "mon.head(15)\n",
    "mon.plot()\n",
    "\n",
    "# Plotting the total number of customers in each section over time - plotting every 2 hours on a Tuesday\n",
    "tues = data_days[\"tuesday\"].groupby(data_days[\"tuesday\"].index).count()[\"location\"]\n",
    "tues.head(15)\n",
    "tues.plot()\n",
    "\n",
    "# Plotting the total number of customers in each section over time - plotting every 2 hours on a Wednesday\n",
    "wed = data_days[\"wednesday\"].groupby(data_days[\"wednesday\"].index).count()[\"location\"]\n",
    "wed.head(15)\n",
    "wed.plot()\n",
    "\n",
    "# Plotting the total number of customers in each section over time - plotting every 2 hours on a Thursday\n",
    "thurs = data_days[\"thursday\"].groupby(data_days[\"thursday\"].index).count()[\"location\"]\n",
    "thurs.head(15)\n",
    "thurs.plot()\n",
    "\n",
    "# Plotting the total number of customers in each section over time - plotting every 2 hours on a Friday\n",
    "fri = data_days[\"friday\"].groupby(data_days[\"friday\"].index).count()[\"location\"]\n",
    "fri.head(15)\n",
    "fri.plot()\n",
    "\n",
    "plt.savefig('customers.png')"
   ]
  },
  {
   "cell_type": "code",
   "execution_count": 10,
   "metadata": {},
   "outputs": [
    {
     "data": {
      "text/plain": [
       "['checkout', 'dairy', 'drinks', 'fruit', 'spices']"
      ]
     },
     "execution_count": 10,
     "metadata": {},
     "output_type": "execute_result"
    }
   ],
   "source": [
    "# Transition Probabilities:\n",
    "data_week[\"next_location_customer\"] = data_week.groupby(\"customer_no\")[\"location\"].shift(-1)\n",
    "P2 = pd.crosstab(data_week['location'], data_week['next_location_customer'], normalize=0)\n",
    "P2\n",
    "\n",
    "states = [\"checkout\", \"dairy\", \"drinks\", \"fruit\", \"spices\"]\n",
    "\n",
    "new_df = pd.DataFrame({\"checkout\":[1, 0, 0, 0, 0]}, index=states)\n",
    "new_df.T\n",
    "\n",
    "P2 = P2.append(new_df.T)\n",
    "P2.to_csv(\"probabilities.csv\")\n",
    "states"
   ]
  },
  {
   "cell_type": "code",
   "execution_count": 11,
   "metadata": {},
   "outputs": [],
   "source": [
    "# Which section do customers visit first after entering the supermarket?\n",
    "data_week[\"just_entered\"] = ~data_week.duplicated(subset=[\"customer_no\"])\n",
    "count_entry = data_week.groupby(\"just_entered\").get_group(True)[\"location\"].value_counts()\n",
    "count_entry\n",
    "count_entry.sum()\n",
    "100/7445\n",
    "1143 * 100/7445\n",
    "\n",
    "probs_entry = probs_out_of_counts(count_entry)\n",
    "probs_entry.append(0.0)\n",
    "probs_entry\n",
    "probs_entry_points = [\"fruit\", \"dairy\", \"spices\", \"drinks\", \"checkout\"]\n",
    "probs_entry = pd.DataFrame(probs_entry, index=probs_entry_points, columns=[\"probabilities\"])\n",
    "probs_entry.to_csv(\"probabilities_entry.csv\")"
   ]
  },
  {
   "cell_type": "code",
   "execution_count": null,
   "metadata": {},
   "outputs": [],
   "source": []
  }
 ],
 "metadata": {
  "kernelspec": {
   "display_name": "Python 3",
   "language": "python",
   "name": "python3"
  },
  "language_info": {
   "codemirror_mode": {
    "name": "ipython",
    "version": 3
   },
   "file_extension": ".py",
   "mimetype": "text/x-python",
   "name": "python",
   "nbconvert_exporter": "python",
   "pygments_lexer": "ipython3",
   "version": "3.6.9"
  }
 },
 "nbformat": 4,
 "nbformat_minor": 4
}
